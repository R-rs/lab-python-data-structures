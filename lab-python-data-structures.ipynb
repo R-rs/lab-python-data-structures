{
 "cells": [
  {
   "cell_type": "markdown",
   "metadata": {
    "tags": []
   },
   "source": [
    "# Lab | Data Structures "
   ]
  },
  {
   "cell_type": "markdown",
   "metadata": {},
   "source": [
    "## Exercise: Managing Customer Orders\n",
    "\n",
    "As part of a business venture, you are starting an online store that sells various products. To ensure smooth operations, you need to develop a program that manages customer orders and inventory.\n",
    "\n",
    "Follow the steps below to complete the exercise:\n",
    "\n",
    "1. Define a list called `products` that contains the following items: \"t-shirt\", \"mug\", \"hat\", \"book\", \"keychain\".\n",
    "\n",
    "2. Create an empty dictionary called `inventory`.\n",
    "\n",
    "3. Ask the user to input the quantity of each product available in the inventory. Use the product names from the `products` list as keys in the `inventory` dictionary and assign the respective quantities as values.\n",
    "\n",
    "4. Create an empty set called `customer_orders`.\n",
    "\n",
    "5. Ask the user to input the name of three products that a customer wants to order (from those in the products list, meaning three products out of \"t-shirt\", \"mug\", \"hat\", \"book\" or \"keychain\". Add each product name to the `customer_orders` set.\n",
    "\n",
    "6. Print the products in the `customer_orders` set.\n",
    "\n",
    "7. Calculate the following order statistics:\n",
    "   - Total Products Ordered: The total number of products in the `customer_orders` set.\n",
    "   - Percentage of Products Ordered: The percentage of products ordered compared to the total available products.\n",
    "   \n",
    "   Store these statistics in a tuple called `order_status`.\n",
    "\n",
    "8. Print the order statistics using the following format:\n",
    "   ```\n",
    "   Order Statistics:\n",
    "   Total Products Ordered: <total_products_ordered>\n",
    "   Percentage of Products Ordered: <percentage_ordered>% \n",
    "   ```\n",
    "\n",
    "9. Update the inventory by subtracting 1 from the quantity of each product. Modify the `inventory` dictionary accordingly.\n",
    "\n",
    "10. Print the updated inventory, displaying the quantity of each product on separate lines.\n",
    "\n",
    "Solve the exercise by implementing the steps using the Python concepts of lists, dictionaries, sets, and basic input/output operations. "
   ]
  },
  {
   "cell_type": "code",
   "execution_count": 16,
   "metadata": {},
   "outputs": [
    {
     "name": "stdin",
     "output_type": "stream",
     "text": [
      "Number of t-shirt left 5\n",
      "Number of mug left 5\n",
      "Number of hat left 5\n",
      "Number of book left 5\n",
      "Number of keychain left 5\n"
     ]
    }
   ],
   "source": [
    "#1 Define a list called products\n",
    "products = [\"t-shirt\", \"mug\", \"hat\", \"book\", \"keychain\"]\n",
    "\n",
    "#2 Create an empty dictionary called inventory\n",
    "inventory = {}\n",
    "#print(type(inventory))\n",
    "\n",
    "#3 Inventory input\n",
    "for product in products:\n",
    "    quantity = int(input(f\"Number of {product} left\"))\n",
    "    inventory.update({product:quantity})\n",
    "#print(inventory)\n",
    "\n",
    "#4 Create an empty set called customer_orders\n",
    "customer_orders = set()\n",
    "#print(type(customer_orders))"
   ]
  },
  {
   "cell_type": "code",
   "execution_count": 22,
   "metadata": {},
   "outputs": [
    {
     "name": "stdin",
     "output_type": "stream",
     "text": [
      "Customer order:  mugg\n"
     ]
    },
    {
     "name": "stdout",
     "output_type": "stream",
     "text": [
      "The product you inserted is not part of our inventory\n"
     ]
    },
    {
     "name": "stdin",
     "output_type": "stream",
     "text": [
      "Do you wish to continue placing order, type 'yes' or 'no'? yes\n",
      "Customer order:  mug\n",
      "Do you wish to continue placing order, type 'yes' or 'no'? yes\n",
      "Customer order:  hat\n",
      "Do you wish to continue placing order, type 'yes' or 'no'? yes\n",
      "Customer order:  book\n",
      "Do you wish to continue placing order, type 'yes' or 'no'? no\n"
     ]
    }
   ],
   "source": [
    "#5 Customer orders input\n",
    "user_intention = \"yes\"\n",
    "\n",
    "while user_intention == \"yes\":\n",
    "    item = input(\"Customer order: \")\n",
    "    if item in products:\n",
    "        customer_orders.add(item)\n",
    "    else:\n",
    "        print(\"The product you inserted is not part of our inventory\")\n",
    "        \n",
    "    user_intention = input(\"Do you wish to continue placing order, type 'yes' or 'no'?\")        "
   ]
  },
  {
   "cell_type": "code",
   "execution_count": 18,
   "metadata": {},
   "outputs": [
    {
     "name": "stdout",
     "output_type": "stream",
     "text": [
      "Customer Orders:  {'mug', 'hat', 'book'}\n",
      "\n",
      "Order Statistics:\n",
      "Total Products Ordered:3\n",
      "Percentage of Products Ordered: 12.0%\n"
     ]
    }
   ],
   "source": [
    "#6 Print customer orders\n",
    "print(\"Customer Orders: \",customer_orders)\n",
    "print()\n",
    "\n",
    "#7 Order Statistics\n",
    "total_items=sum(inventory.values())\n",
    "#print(total_items)\n",
    "percentage_order=len(customer_orders)/total_items*100\n",
    "order_status=(len(customer_orders),percentage_order)\n",
    "#print(order_status)\n",
    "\n",
    "#8 Order statistics - f string print\n",
    "print(f\"\"\"Order Statistics:\n",
    "Total Products Ordered:{len(customer_orders)}\n",
    "Percentage of Products Ordered: {percentage_order}%\"\"\")"
   ]
  },
  {
   "cell_type": "code",
   "execution_count": 19,
   "metadata": {},
   "outputs": [],
   "source": [
    "#9 Updating inventory. Removing one from each product in the inventory\n",
    "for key, value in inventory.items():\n",
    "    inventory[key]=value-1\n",
    "#print(inventory)"
   ]
  },
  {
   "cell_type": "code",
   "execution_count": 20,
   "metadata": {},
   "outputs": [
    {
     "name": "stdout",
     "output_type": "stream",
     "text": [
      "t-shirt 4\n",
      "mug 4\n",
      "hat 4\n",
      "book 4\n",
      "keychain 4\n"
     ]
    }
   ],
   "source": [
    "#10 Display of updated inventory\n",
    "for key,value in inventory.items():\n",
    "    print(key,value)"
   ]
  },
  {
   "cell_type": "code",
   "execution_count": 21,
   "metadata": {},
   "outputs": [],
   "source": [
    "# What does it mean percentage of products ordered since we only have a set and no definition of quantities ordered?"
   ]
  }
 ],
 "metadata": {
  "kernelspec": {
   "display_name": "Python 3 (ipykernel)",
   "language": "python",
   "name": "python3"
  },
  "language_info": {
   "codemirror_mode": {
    "name": "ipython",
    "version": 3
   },
   "file_extension": ".py",
   "mimetype": "text/x-python",
   "name": "python",
   "nbconvert_exporter": "python",
   "pygments_lexer": "ipython3",
   "version": "3.11.7"
  }
 },
 "nbformat": 4,
 "nbformat_minor": 4
}
